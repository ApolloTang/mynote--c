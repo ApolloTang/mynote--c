{
 "cells": [
  {
   "cell_type": "markdown",
   "id": "de1a64ce-0c0b-4627-819f-b6c3d52dd1c2",
   "metadata": {},
   "source": [
    "## The address-of and indirection operator\n",
    "\n",
    "The *address-of* operator `&`, when operating on a variable **gives you the address** of the variable in memory. \n",
    "\n",
    "The *indirection* operator `*`, when operating on a pointer **gives you the content of the object** the pointer points to.   "
   ]
  },
  {
   "cell_type": "code",
   "execution_count": 48,
   "id": "66ee8545-e718-4922-af9e-f1ac2c518220",
   "metadata": {},
   "outputs": [
    {
     "name": "stdout",
     "output_type": "stream",
     "text": [
      "the value of '*p' is the value of 'i': 100\n",
      "'*p' is equivalent to '*&i': 100\n"
     ]
    }
   ],
   "source": [
    "#include <stdio.h>\n",
    "\n",
    "int main(void) {\n",
    "    int i;      // declare variable i as an integer\n",
    "    int *p;     // declare variable p as a pointer\n",
    "\n",
    "    i = 100;\n",
    "\n",
    "    // In next line, an address operator, &, operates on a variable i, which returns the address of i.\n",
    "    // After the assignment, pointer p stores the address of i:\n",
    "    p = &i;\n",
    "\n",
    "    // When an indirection operator operates on a pointer, \n",
    "    // it gives the value stored in the object which the pointer p points to\n",
    "    printf(\"the value of '*p' is the value of 'i': %d\\n\", *p);\n",
    "\n",
    "    printf(\"'*p' is equivalent to '*&i': %d\\n\", *&i);\n",
    "\n",
    "    return 0;\n",
    "}"
   ]
  },
  {
   "cell_type": "markdown",
   "id": "8791eac8-7f35-475d-b2cf-da189c8f2369",
   "metadata": {},
   "source": [
    "Note in the expression `*&i` the opeartor `*` and `&` cancel each other, in effect, `*&i` and therefore `*p` is an *alias* for `i`."
   ]
  },
  {
   "cell_type": "markdown",
   "id": "9b372fc8-2e5d-4bbd-b11f-4f1cb608f972",
   "metadata": {},
   "source": [
    "## Gotha:\n",
    "\n",
    "### 1. Never apply the indirection operator to an uninitialized pointer variable.\n",
    "The following is dangerous because you are attempting to get the value of a pointer that points to nowhere:"
   ]
  },
  {
   "cell_type": "code",
   "execution_count": 47,
   "id": "4822461b-a98c-4634-bc12-a97492f45c68",
   "metadata": {},
   "outputs": [
    {
     "name": "stdout",
     "output_type": "stream",
     "text": [
      "the value of '*p' is '1426119592' which is gabage.\n"
     ]
    }
   ],
   "source": [
    "#include <stdio.h>\n",
    "\n",
    "int main(void) {\n",
    "    int *p;     // declare variable p as a pointer\n",
    "\n",
    "    // p points to nothing at this point\n",
    "    printf(\"the value of '*p' is '%d' which is gabage.\\n\", *p); // give you gabdge!\n",
    "    return 0;\n",
    "}"
   ]
  },
  {
   "cell_type": "markdown",
   "id": "867e0189-d689-4594-9436-2faf56ba0355",
   "metadata": {},
   "source": [
    "### 2. An indirection-operated variable should not be an Lvalue.\n",
    "\n",
    "An indirection-operated variable `*p` should never be an `Lvalue` that receives an assignment: `p` could have been pointed to an object; the assignment will mutate the object's value that `p` points to."
   ]
  },
  {
   "cell_type": "code",
   "execution_count": 44,
   "id": "547664ec-ecf8-443f-b61e-32b3085203a3",
   "metadata": {},
   "outputs": [
    {
     "name": "stdout",
     "output_type": "stream",
     "text": [
      "'p' points to 'i', and the value of 'i' (which is '*p') is: 100\n",
      "The value of 'i' has been mutated: 200\n"
     ]
    }
   ],
   "source": [
    "#include <stdio.h>\n",
    "\n",
    "int main(void) {\n",
    "    int i=100;      // declare a variable i as an integer with value 100\n",
    "    int *p=&i;      // declare variable p as a pointer points to an integer i\n",
    "\n",
    "    printf(\"'p' points to 'i', and the value of 'i' (which is '*p') is: %d\\n\", *p);\n",
    "\n",
    "    *p = 200;      // This is bad practice because p already points to i\n",
    "    printf(\"The value of 'i' has been mutated: %d\\n\", i);\n",
    "    return 0;\n",
    "}"
   ]
  }
 ],
 "metadata": {
  "kernelspec": {
   "display_name": "C",
   "language": "c",
   "name": "c"
  },
  "language_info": {
   "file_extension": ".c",
   "mimetype": "text/plain",
   "name": "c"
  }
 },
 "nbformat": 4,
 "nbformat_minor": 5
}
