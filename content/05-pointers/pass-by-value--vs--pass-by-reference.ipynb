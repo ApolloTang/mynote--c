{
 "cells": [
  {
   "cell_type": "markdown",
   "id": "719ef5a3-2cb8-42d8-b2cf-6da4637c72b8",
   "metadata": {},
   "source": [
    "# pass by value vs. pass by reference, an example."
   ]
  },
  {
   "cell_type": "code",
   "execution_count": 6,
   "id": "b7976dae-c3ec-4fe5-b0f0-ddb627e5ad43",
   "metadata": {},
   "outputs": [
    {
     "name": "stdout",
     "output_type": "stream",
     "text": [
      "before: a=21 b=17\n",
      "afer: a=21 b=17\n"
     ]
    }
   ],
   "source": [
    "#include <stdio.h>\n",
    "\n",
    "void swap(int a, int b) {\n",
    "    int t = a;\n",
    "    a = b;\n",
    "    b = t;\n",
    "}\n",
    "\n",
    "int main(void) {\n",
    "    int a = 21;\n",
    "    int b = 17;\n",
    "    printf(\"before: a=%d b=%d\\n\", a, b);\n",
    "    swap(a, b);       // create a copy of content in a and b before passing them into the function swap\n",
    "    printf(\"afer: a=%d b=%d\\n\", a, b);\n",
    "    return 0;\n",
    "}"
   ]
  },
  {
   "cell_type": "code",
   "execution_count": 7,
   "id": "6b4c660f-e09a-4f29-82a2-7cb8937f256d",
   "metadata": {},
   "outputs": [
    {
     "name": "stdout",
     "output_type": "stream",
     "text": [
      "before: a=21 b=17\n",
      "after: a=17 b=21\n"
     ]
    }
   ],
   "source": [
    "#include <stdio.h>\n",
    "\n",
    "void swap(int *pa, int *pb) {   // pa and pb are pointers to address\n",
    "    int t = *pa;                // Dereference pa, and assign its value to t\n",
    "    *pa = *pb;                  // Dereference pb, and assign its value to the value of store points by pointer pa\n",
    "    *pb = t;                    // Assign the value of t to the value of store points by pointer pb\n",
    "}\n",
    "\n",
    "int main(void) {\n",
    "    int a = 21;\n",
    "    int b = 17;\n",
    "    printf(\"before: a=%d b=%d\\n\", a, b);\n",
    "    swap(&a, &b);               // pass the address-of a and b into swap\n",
    "    printf(\"after: a=%d b=%d\\n\", a, b);\n",
    "    return 0;\n",
    "}"
   ]
  },
  {
   "cell_type": "code",
   "execution_count": null,
   "id": "252fd7b2-814a-47fb-b725-8de6227edb0a",
   "metadata": {},
   "outputs": [],
   "source": []
  }
 ],
 "metadata": {
  "kernelspec": {
   "display_name": "C",
   "language": "c",
   "name": "c"
  },
  "language_info": {
   "file_extension": ".c",
   "mimetype": "text/plain",
   "name": "c"
  }
 },
 "nbformat": 4,
 "nbformat_minor": 5
}
