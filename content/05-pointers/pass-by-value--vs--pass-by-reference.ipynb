{
 "cells": [
  {
   "cell_type": "markdown",
   "id": "719ef5a3-2cb8-42d8-b2cf-6da4637c72b8",
   "metadata": {},
   "source": [
    "# Pass by value vs. pass by reference, an example."
   ]
  },
  {
   "cell_type": "markdown",
   "id": "2aa5d634-1b84-419d-983f-ff4a08cdb04e",
   "metadata": {},
   "source": [
    "`Swap(int a, int b)` is a function attempt to swap value stored in `a` and `b`. "
   ]
  },
  {
   "cell_type": "markdown",
   "id": "19ab3f29-6117-490a-ab47-9cc7979889b3",
   "metadata": {},
   "source": [
    "## Pass by value\n",
    "The following demo does not work because the value passed to the function is *copy by value*."
   ]
  },
  {
   "cell_type": "code",
   "execution_count": 1,
   "id": "b7976dae-c3ec-4fe5-b0f0-ddb627e5ad43",
   "metadata": {},
   "outputs": [
    {
     "name": "stdout",
     "output_type": "stream",
     "text": [
      "before: a=21 b=17\n",
      "afer: a=21 b=17\n"
     ]
    }
   ],
   "source": [
    "#include <stdio.h>\n",
    "\n",
    "void swap(int a, int b) {\n",
    "    int t = a;\n",
    "    a = b;\n",
    "    b = t;\n",
    "}\n",
    "\n",
    "int main(void) {\n",
    "    int a = 21;\n",
    "    int b = 17;\n",
    "    printf(\"before: a=%d b=%d\\n\", a, b);\n",
    "    swap(a, b);       // create a copy of content in a and b before passing them into the function swap\n",
    "    printf(\"afer: a=%d b=%d\\n\", a, b);\n",
    "    return 0;\n",
    "}"
   ]
  },
  {
   "cell_type": "markdown",
   "id": "1702e5dd-6e03-4184-9a07-cbd7770d7af1",
   "metadata": {},
   "source": [
    "## Pass by reference.\n",
    "The following demo works because the value passed to the function is *pass by reference*."
   ]
  },
  {
   "cell_type": "code",
   "execution_count": 2,
   "id": "6b4c660f-e09a-4f29-82a2-7cb8937f256d",
   "metadata": {},
   "outputs": [
    {
     "name": "stdout",
     "output_type": "stream",
     "text": [
      "before: a=21 b=17\n",
      "after: a=17 b=21\n"
     ]
    }
   ],
   "source": [
    "#include <stdio.h>\n",
    "\n",
    "void swap(int *pa, int *pb) {   // pa and pb are pointers to address\n",
    "    int t = *pa;                // Dereference pa, and assign its value to t\n",
    "    *pa = *pb;                  // Dereference pb, and assign its value to the value of store points by pointer pa\n",
    "    *pb = t;                    // Assign the value of t to the value of store points by pointer pb\n",
    "}\n",
    "\n",
    "int main(void) {\n",
    "    int a = 21;\n",
    "    int b = 17;\n",
    "    printf(\"before: a=%d b=%d\\n\", a, b);\n",
    "    swap(&a, &b);               // pass the address-of a and b into swap\n",
    "    printf(\"after: a=%d b=%d\\n\", a, b);\n",
    "    return 0;\n",
    "}"
   ]
  },
  {
   "cell_type": "markdown",
   "id": "a5c92ec0-bbae-4fd8-a538-63bde74dc720",
   "metadata": {},
   "source": [
    "Example from: Effective C, nostash 2020, p14-17"
   ]
  }
 ],
 "metadata": {
  "kernelspec": {
   "display_name": "C",
   "language": "c",
   "name": "c"
  },
  "language_info": {
   "file_extension": ".c",
   "mimetype": "text/plain",
   "name": "c"
  }
 },
 "nbformat": 4,
 "nbformat_minor": 5
}
