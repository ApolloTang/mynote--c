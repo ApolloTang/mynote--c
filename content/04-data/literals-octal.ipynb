{
 "cells": [
  {
   "cell_type": "markdown",
   "id": "f8399c87-bf27-420e-a110-6e9c4efc7c31",
   "metadata": {},
   "source": [
    "# Octal literals\n",
    "\n",
    "When the first character of a number is '0' C treated it as a octal literal. \n",
    "    "
   ]
  },
  {
   "cell_type": "code",
   "execution_count": 19,
   "id": "6fbafcc3-6de7-450c-88af-f1360754bf88",
   "metadata": {},
   "outputs": [
    {
     "name": "stdout",
     "output_type": "stream",
     "text": [
      "print value in variable using specifier %d: 8\n",
      "print value in variable using specifier %i: 8\n",
      "print value in variable using specifier %o: 10\n"
     ]
    }
   ],
   "source": [
    "#include <stdio.h>\n",
    "\n",
    "int main() {\n",
    "    int eight = 010;  // this is octal 10 (base 8)\n",
    "    printf(\"print value in variable using specifier %%d: %d\\n\", eight);  // this print 8\n",
    "    printf(\"print value in variable using specifier %%i: %i\\n\", eight);  // this print 8\n",
    "    printf(\"print value in variable using specifier %%o: %o\\n\", eight);  // this print 10\n",
    "\n",
    "    return 0;\n",
    "}"
   ]
  },
  {
   "cell_type": "code",
   "execution_count": 20,
   "id": "08f1bc21-ebcc-422e-b4e6-0da493c89ffb",
   "metadata": {},
   "outputs": [
    {
     "name": "stdout",
     "output_type": "stream",
     "text": [
      "print value in variable using specifier %d: 8\n",
      "print value in variable using specifier %i: 8\n",
      "print value in variable using specifier %o: 10\n"
     ]
    }
   ],
   "source": [
    "#include <stdio.h>\n",
    "\n",
    "int main() {\n",
    "    int eight = 8;  // this is decimal 8 (base 10)\n",
    "    printf(\"print value in variable using specifier %%d: %d\\n\", eight);  // this print 8\n",
    "    printf(\"print value in variable using specifier %%i: %i\\n\", eight);  // this print 8\n",
    "    printf(\"print value in variable using specifier %%o: %o\\n\", eight);  // this print 10\n",
    "\n",
    "    return 0;\n",
    "}"
   ]
  },
  {
   "cell_type": "code",
   "execution_count": null,
   "id": "50a6aa17-9fb0-4c88-b62c-157ce79b19bc",
   "metadata": {},
   "outputs": [],
   "source": []
  }
 ],
 "metadata": {
  "kernelspec": {
   "display_name": "C",
   "language": "c",
   "name": "c"
  },
  "language_info": {
   "file_extension": ".c",
   "mimetype": "text/plain",
   "name": "c"
  }
 },
 "nbformat": 4,
 "nbformat_minor": 5
}
