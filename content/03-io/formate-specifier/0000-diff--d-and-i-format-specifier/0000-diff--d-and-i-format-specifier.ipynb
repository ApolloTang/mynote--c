{
 "cells": [
  {
   "cell_type": "markdown",
   "id": "43d70993-2d6f-4e82-b022-7951c7299441",
   "metadata": {},
   "source": [
    "# Difference between %d and %i format specifier\n",
    "\n",
    "`%d` and `%i` behave similarly with `printf()`, but with `scanf()`, `%d` assume base 10 while `%i` auto detects the base."
   ]
  },
  {
   "cell_type": "markdown",
   "id": "abd01c1c-4e4c-4f6d-86d2-a11de0c2d590",
   "metadata": {},
   "source": [
    "## %d and %i behave similarly with printf():"
   ]
  },
  {
   "cell_type": "code",
   "execution_count": 12,
   "id": "4bcda02a-097b-4787-8ddf-65d3c71521f2",
   "metadata": {},
   "outputs": [
    {
     "name": "stdout",
     "output_type": "stream",
     "text": [
      "Overwriting d_n_i_behave_similar_w_printf.c\n"
     ]
    }
   ],
   "source": [
    "%%file d_n_i_behave_similar_w_printf.c\n",
    "#include <stdio.h>\n",
    "\n",
    "int main() {\n",
    "    int eight = 010;  // this is octal 10 (base 8)\n",
    "    printf(\"print value in variable using specifier %%d: %d\\n\", eight);  // this print 8\n",
    "    printf(\"print value in variable using specifier %%i: %i\\n\", eight);  // this print 8\n",
    "\n",
    "    return 0;\n",
    "}"
   ]
  },
  {
   "cell_type": "code",
   "execution_count": 13,
   "id": "c44bff1e-233d-4d64-b1bd-e94bee89d6d0",
   "metadata": {},
   "outputs": [],
   "source": [
    "%%bash\n",
    "\n",
    "gcc d_n_i_behave_similar_w_printf.c -g -o d_n_i_behave_similar_w_printf"
   ]
  },
  {
   "cell_type": "markdown",
   "id": "899a8d0d-e15c-406f-9e59-3767fa7edb63",
   "metadata": {},
   "source": [
    "Output:\n",
    "```\n",
    "$ ./d_n_i_behave_similar_w_printf\n",
    "print value in variable using specifier %d: 8\n",
    "print value in variable using specifier %i: 8\n",
    "```\n"
   ]
  },
  {
   "cell_type": "markdown",
   "id": "a857e8d7-e64c-4428-9a1b-55823b6792f2",
   "metadata": {},
   "source": [
    "## with scanf(), %d assume base 10 while %i auto detects the base."
   ]
  },
  {
   "cell_type": "markdown",
   "id": "867b01cb-f457-44fa-a194-7edb877e1ca5",
   "metadata": {},
   "source": [
    "### %i auto detects the base:"
   ]
  },
  {
   "cell_type": "code",
   "execution_count": 14,
   "id": "6df22263-f5d7-4c03-8748-3fee8e047fa6",
   "metadata": {},
   "outputs": [
    {
     "name": "stdout",
     "output_type": "stream",
     "text": [
      "Overwriting scanf_w_i.c\n"
     ]
    }
   ],
   "source": [
    "%%file scanf_w_i.c\n",
    "\n",
    "// scanf with %%i, will auto detect base\n",
    "\n",
    "#include <stdio.h>\n",
    "\n",
    "int main()\n",
    "{\n",
    "    int somenumber;\n",
    "\n",
    "    printf(\"Enter a value in octal base (scanf with %%i, will auto detect base): \");\n",
    "    scanf(\"%i\", &somenumber);\n",
    "  \n",
    "    printf(\"somenumber = %i \\n\", somenumber); \n",
    "    return 0;\n",
    "}"
   ]
  },
  {
   "cell_type": "code",
   "execution_count": 15,
   "id": "b2ec6017-bf13-4a22-898a-38fa29202421",
   "metadata": {},
   "outputs": [],
   "source": [
    "%%bash\n",
    "\n",
    "gcc scanf_w_i.c -g -o scanf_w_i"
   ]
  },
  {
   "cell_type": "markdown",
   "id": "4da17565-f3e6-42b2-b836-87920ad39147",
   "metadata": {},
   "source": [
    "output:\n",
    "```\n",
    "$ ./scanf_w_i\n",
    "Enter a value in octal base (scanf with %i, will auto detect base): 010\n",
    "somenumber = 8 \n",
    "```\n"
   ]
  },
  {
   "cell_type": "markdown",
   "id": "bc6c84a8-2f5f-488e-94d2-80f4f3f6c4ae",
   "metadata": {},
   "source": [
    "### %d only takes input with number of base 10:"
   ]
  },
  {
   "cell_type": "code",
   "execution_count": 16,
   "id": "782392e6-c9e9-48cc-bb48-9e3ff420fe32",
   "metadata": {},
   "outputs": [
    {
     "name": "stdout",
     "output_type": "stream",
     "text": [
      "Overwriting scanf_w_d.c\n"
     ]
    }
   ],
   "source": [
    "%%file scanf_w_d.c\n",
    "\n",
    "// When using scanf with %d, the input must be in base 10.\n",
    "\n",
    "#include <stdio.h>\n",
    "#include <assert.h>\n",
    "\n",
    "\n",
    "int main()\n",
    "{\n",
    "    int somenumber;\n",
    "\n",
    "    printf(\"Enter '010' :> \");\n",
    "    scanf(\"%d\", &somenumber);\n",
    "    printf(\"Explanation: the value you entered above, 010, is in octal base, or 8 in decimal base.\\n\");\n",
    "\n",
    "    printf(\"Result: The number you entered was %i in decimal base.\\n\", somenumber);\n",
    "    printf(\"Explanation: You have entered 010, a number in the octal base, so it should print the value of 8 in the decimal base.\\n\");\n",
    "    assert(somenumber != 010); // \n",
    "    \n",
    "    return 0;\n",
    "}"
   ]
  },
  {
   "cell_type": "code",
   "execution_count": 17,
   "id": "4b18ea85-2671-46d4-bb08-1c15ff3dc015",
   "metadata": {},
   "outputs": [],
   "source": [
    "%%bash\n",
    "\n",
    "gcc scanf_w_d.c -g -o scanf_w_d"
   ]
  },
  {
   "cell_type": "markdown",
   "id": "b3fe4a90-fbb7-43c5-ae4b-9a7b3f996e02",
   "metadata": {},
   "source": [
    "output\n",
    "```\n",
    "$ ./scanf_w_d\n",
    "Enter '010' :> 010\n",
    "Explanation: the value you entered above, 010, is in octal base, or 8 in decimal base.\n",
    "Result: The number you entered was 10 in decimal base.\n",
    "Explanation: You have entered 010, a number in the octal base, so it should print the value of 8 in the decimal base.\n",
    "```"
   ]
  },
  {
   "cell_type": "markdown",
   "id": "fdf704ee-4649-4002-b875-3c2c1b186caa",
   "metadata": {},
   "source": [
    "Ref: \n",
    "- [geeksforgeeks.org/difference-d-format-specifier-c-language/](https://www.geeksforgeeks.org/difference-d-format-specifier-c-language/)\n",
    "- [geeksforgeeks.org/octal-literals-in-c](https://www.geeksforgeeks.org/octal-literals-in-c/)\n",
    "- [tutorialspoint.com/cprogramming/c_data_types.htm](https://www.tutorialspoint.com/cprogramming/c_data_types.htm)"
   ]
  },
  {
   "cell_type": "code",
   "execution_count": null,
   "id": "a1a7c5f8-08c4-40f9-8af5-6ec72956abf6",
   "metadata": {},
   "outputs": [],
   "source": []
  }
 ],
 "metadata": {
  "kernelspec": {
   "display_name": "Python 3 (ipykernel)",
   "language": "python",
   "name": "python3"
  },
  "language_info": {
   "codemirror_mode": {
    "name": "ipython",
    "version": 3
   },
   "file_extension": ".py",
   "mimetype": "text/x-python",
   "name": "python",
   "nbconvert_exporter": "python",
   "pygments_lexer": "ipython3",
   "version": "3.12.2"
  }
 },
 "nbformat": 4,
 "nbformat_minor": 5
}
