{
 "cells": [
  {
   "cell_type": "markdown",
   "id": "43d70993-2d6f-4e82-b022-7951c7299441",
   "metadata": {},
   "source": [
    "# Difference between %d and %i format specifier\n",
    "\n",
    "`%d` and `%i` behave similarly with `printf()`, but with `scanf()`, `%d` assume base 10 while `%i` auto detects the base."
   ]
  },
  {
   "cell_type": "code",
   "execution_count": 37,
   "id": "6df22263-f5d7-4c03-8748-3fee8e047fa6",
   "metadata": {},
   "outputs": [
    {
     "name": "stdout",
     "output_type": "stream",
     "text": [
      "Overwriting with_int.c\n"
     ]
    }
   ],
   "source": [
    "%%file with_int.c\n",
    "\n",
    "#include <stdio.h>\n",
    "#include <limits.h>\n",
    "\n",
    "int main()\n",
    "{\n",
    "    int a;\n",
    "\n",
    "    printf(\"Entered values should be in %lu bytes \\n\", sizeof(int));\n",
    "    printf(\"INT_MAX     :   %d\\n\", INT_MAX);\n",
    "    printf(\"INT_MIN     :   %d\\n\", INT_MIN);\n",
    "\n",
    "    printf(\"Enter value (scanf with %%i, will auto detect base): \");\n",
    "    scanf(\"%i\", &a);\n",
    "  \n",
    "    printf(\"a = %i \\n\", a); \n",
    "    return 0;\n",
    "}"
   ]
  },
  {
   "cell_type": "code",
   "execution_count": 38,
   "id": "b2ec6017-bf13-4a22-898a-38fa29202421",
   "metadata": {},
   "outputs": [],
   "source": [
    "%%bash\n",
    "\n",
    "gcc with_int.c -g -o with_int"
   ]
  },
  {
   "cell_type": "markdown",
   "id": "4da17565-f3e6-42b2-b836-87920ad39147",
   "metadata": {},
   "source": [
    "```\n",
    "$ ./with_int\n",
    "Entered values should be in 4 bytes\n",
    "INT_MAX     :   2147483647\n",
    "INT_MIN     :   -2147483648\n",
    "Enter value (scanf with %i, will auto detect base): 01010\n",
    "```\n"
   ]
  },
  {
   "cell_type": "code",
   "execution_count": 39,
   "id": "afc7bdbd-c260-4720-8e10-7dbae534a9e7",
   "metadata": {},
   "outputs": [
    {
     "name": "stdout",
     "output_type": "stream",
     "text": [
      "Overwriting with_decimal.c\n"
     ]
    }
   ],
   "source": [
    "%%file with_decimal.c\n",
    "\n",
    "#include <stdio.h>\n",
    "#include <limits.h>\n",
    "\n",
    "int main()\n",
    "{\n",
    "    int a;\n",
    "\n",
    "    printf(\"Entered values should be in %lu bytes \\n\", sizeof(int));\n",
    "    printf(\"INT_MAX     :   %d\\n\", INT_MAX);\n",
    "    printf(\"INT_MIN     :   %d\\n\", INT_MIN);\n",
    "\n",
    "    printf(\"Enter value (scanf with %%d, value must be base 10): \");\n",
    "    scanf(\"%d\", &a);\n",
    "  \n",
    "    printf(\"a = %i \\n\", a); \n",
    "    return 0;\n",
    " \n",
    "    return 0;\n",
    "}"
   ]
  },
  {
   "cell_type": "code",
   "execution_count": 40,
   "id": "4b18ea85-2671-46d4-bb08-1c15ff3dc015",
   "metadata": {},
   "outputs": [],
   "source": [
    "%%bash\n",
    "\n",
    "gcc with_decimal.c -g -o with_decimal"
   ]
  },
  {
   "cell_type": "markdown",
   "id": "10446025-c7a7-4946-aa9c-9f8c511c8cec",
   "metadata": {},
   "source": [
    "```\n",
    "$ ./with_decimal\n",
    "Entered values should be in 4 bytes\n",
    "INT_MAX     :   2147483647\n",
    "INT_MIN     :   -2147483648\n",
    "Enter value (scanf with %d, value must be base 10): 01010\n",
    "a = 1010\n",
    "```"
   ]
  },
  {
   "cell_type": "markdown",
   "id": "fdf704ee-4649-4002-b875-3c2c1b186caa",
   "metadata": {},
   "source": [
    "Ref: \n",
    "- [geeksforgeeks.org/difference-d-format-specifier-c-language/](https://www.geeksforgeeks.org/difference-d-format-specifier-c-language/)\n",
    "- [.geeksforgeeks.org/octal-literals-in-c](https://www.geeksforgeeks.org/octal-literals-in-c/)"
   ]
  },
  {
   "cell_type": "code",
   "execution_count": null,
   "id": "b778fee0-b2ce-4836-9a4c-2c866d060faf",
   "metadata": {},
   "outputs": [],
   "source": []
  }
 ],
 "metadata": {
  "kernelspec": {
   "display_name": "Python 3 (ipykernel)",
   "language": "python",
   "name": "python3"
  },
  "language_info": {
   "codemirror_mode": {
    "name": "ipython",
    "version": 3
   },
   "file_extension": ".py",
   "mimetype": "text/x-python",
   "name": "python",
   "nbconvert_exporter": "python",
   "pygments_lexer": "ipython3",
   "version": "3.12.2"
  }
 },
 "nbformat": 4,
 "nbformat_minor": 5
}
