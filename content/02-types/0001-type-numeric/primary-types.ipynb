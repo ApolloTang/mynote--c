{
 "cells": [
  {
   "cell_type": "markdown",
   "id": "3a702237-8d7c-448e-909c-5a6457cd3879",
   "metadata": {},
   "source": [
    "# Primary types\n",
    "\n",
    "The C language provides the four basic arithmetic type specifiers:\n",
    "\n",
    "```\n",
    "char\n",
    "int\n",
    "float\n",
    "double\n",
    "```\n",
    "\n",
    "Specifiers can be modified by modifiers:\n",
    "```\n",
    "signed\n",
    "unsigned\n",
    "short\n",
    "long\n",
    "```\n",
    "\n",
    "see [en.wikipedia.org/wiki/C_data_types](https://en.wikipedia.org/wiki/C_data_types)\n",
    "\n",
    "For example:"
   ]
  },
  {
   "cell_type": "code",
   "execution_count": 1,
   "id": "fc91fec5-5565-404b-b437-56028e245400",
   "metadata": {},
   "outputs": [],
   "source": [
    "int main() {\n",
    "    short int sh;\n",
    "    long int counter;\n",
    "}"
   ]
  },
  {
   "cell_type": "markdown",
   "id": "6b4e1ded-0fb8-4741-b6eb-db3bca13f4fb",
   "metadata": {},
   "source": [
    "Note that you can omitted the keyword `int`:"
   ]
  },
  {
   "cell_type": "code",
   "execution_count": 2,
   "id": "d09fbb23-a42a-4aaa-a1cd-5f7e21b31329",
   "metadata": {},
   "outputs": [],
   "source": [
    "int main() {\n",
    "    short sh;\n",
    "    long counter;\n",
    "}"
   ]
  },
  {
   "cell_type": "markdown",
   "id": "af1f9749-71bd-4ac5-80f4-e5e657f56dd3",
   "metadata": {},
   "source": [
    "## Size of C type\n",
    "\n",
    "The exact number of bytes for each of the C types might vary.  It depends on the platform you're using, as well as how your compiler is configured. (see [this](https://stackoverflow.com/questions/11438794/is-the-size-of-c-int-2-bytes-or-4-bytes)). \n",
    "\n",
    "As a general rule: \n",
    "```\n",
    "short <= int <= long\n",
    "```"
   ]
  },
  {
   "cell_type": "markdown",
   "id": "9f42044e-a014-422f-83c1-f32d53fa3562",
   "metadata": {},
   "source": [
    "### Using the `sizeof()` operator to get the size of a type\n",
    "\n",
    "The result, of course, depends on your compiler."
   ]
  },
  {
   "cell_type": "code",
   "execution_count": 12,
   "id": "2a720063-edd7-4382-93cb-6872d6b0ae91",
   "metadata": {},
   "outputs": [
    {
     "name": "stdout",
     "output_type": "stream",
     "text": [
      "number of bytes for various numeric type:\n",
      "-----------------------------------------\n",
      "int:          4\n",
      "short:        2\n",
      "long:         8\n",
      "long long:    8\n",
      "float:        4\n",
      "double:       8\n",
      "unsigned int: 4\n"
     ]
    }
   ],
   "source": [
    "#include <stdio.h>\n",
    "\n",
    "int main()\n",
    "{\n",
    "    printf(\"number of bytes for various numeric type:\\n\");\n",
    "    printf(\"-----------------------------------------\\n\");\n",
    "    printf(\"int:          %lu\\n\", sizeof(int));\n",
    "    printf(\"short:        %lu\\n\", sizeof(short));\n",
    "    printf(\"long:         %lu\\n\", sizeof(long));\n",
    "    printf(\"long long:    %lu\\n\", sizeof(long long));\n",
    "    printf(\"float:        %lu\\n\", sizeof(float));\n",
    "    printf(\"double:       %lu\\n\", sizeof(double));\n",
    "    printf(\"unsigned int: %lu\\n\", sizeof(unsigned int));\n",
    "}"
   ]
  },
  {
   "cell_type": "markdown",
   "id": "4fa0b5b0-7514-4940-b8e1-460a1a985d62",
   "metadata": {},
   "source": [
    "- The `sizeof` operator takes the name of a type as an argument and evaluates to the number of bytes used to store that type. \n",
    "- The `sizeof` operator evaluates to an unsigned long value, so in the call to `printf`, use the placeholder `%lu` to print its value. "
   ]
  },
  {
   "cell_type": "markdown",
   "id": "a8973e8b-1e77-4b9b-9dcb-8f843fe14cad",
   "metadata": {},
   "source": [
    "### Get size information from the header library `<limits.h>` and `<float.h>`:\n",
    "\n",
    "The header `<limits.h>` and `<float.h>` defines the constants for the sizes of integer and floating-point types respectively:"
   ]
  },
  {
   "cell_type": "code",
   "execution_count": 13,
   "id": "e28eb39e-9b45-470d-8756-d09ad93f8a97",
   "metadata": {},
   "outputs": [
    {
     "name": "stdout",
     "output_type": "stream",
     "text": [
      "\n",
      "Int\n",
      "===\n",
      " INT_MAX:  2147483647\n",
      " INT_MIN: -2147483648\n",
      "UINT_MAX:  4294967295\n"
     ]
    }
   ],
   "source": [
    "#include <limits.h>\n",
    "#include <stdio.h>\n",
    "\n",
    "int main(void)\n",
    "{\n",
    "\tprintf(\"\\n\");\n",
    "\tprintf(\"Int\\n\");\n",
    "\tprintf(\"===\\n\");\n",
    "\tprintf(\" INT_MAX: %11d\\n\", INT_MAX);\n",
    "\tprintf(\" INT_MIN: %11d\\n\", INT_MIN);\n",
    "\tprintf(\"UINT_MAX: %11u\\n\", UINT_MAX);\n",
    "\n",
    "\treturn 0;\n",
    "}"
   ]
  },
  {
   "cell_type": "markdown",
   "id": "f5f18103-397a-4a0c-bb1e-b8bf5383a3cd",
   "metadata": {},
   "source": [
    "see: \n",
    "- [wikipedia.org/wiki/C_data_types#Interface_to_the_properties_of_the_basic_types](https://en.wikipedia.org/wiki/C_data_types#Interface_to_the_properties_of_the_basic_types)\n",
    "- [sol-the-c-programming-language/ch2\n",
    "/ex-2-01-numeric-ranges.c](https://github.com/ApolloTang/sol-the-c-programming-language/blob/master/ch2/ex-2-01-numeric-ranges.c)\n"
   ]
  }
 ],
 "metadata": {
  "kernelspec": {
   "display_name": "C",
   "language": "c",
   "name": "c"
  },
  "language_info": {
   "file_extension": ".c",
   "mimetype": "text/plain",
   "name": "c"
  }
 },
 "nbformat": 4,
 "nbformat_minor": 5
}
