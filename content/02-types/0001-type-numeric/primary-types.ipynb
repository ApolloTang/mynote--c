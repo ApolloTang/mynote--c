{
 "cells": [
  {
   "cell_type": "markdown",
   "id": "3a702237-8d7c-448e-909c-5a6457cd3879",
   "metadata": {},
   "source": [
    "# Primary types\n",
    "\n",
    "The C language provides the four basic arithmetic type specifiers:\n",
    "\n",
    "```\n",
    "char\n",
    "int\n",
    "float\n",
    "double\n",
    "```\n",
    "\n",
    "Specifiers can be modified by modifiers:\n",
    "```\n",
    "signed\n",
    "unsigned\n",
    "short\n",
    "long\n",
    "```\n",
    "\n",
    "see [en.wikipedia.org/wiki/C_data_types](https://en.wikipedia.org/wiki/C_data_types)"
   ]
  },
  {
   "cell_type": "markdown",
   "id": "af1f9749-71bd-4ac5-80f4-e5e657f56dd3",
   "metadata": {},
   "source": [
    "## Size of C type\n",
    "\n",
    "The exact number of bytes for each of the C types might vary.  It depends on the platform you're using, as well as how your compiler is configured. (see [this](https://stackoverflow.com/questions/11438794/is-the-size-of-c-int-2-bytes-or-4-bytes)). \n",
    "\n",
    "The only authoritative answer is to use the `sizeof` operator to see how big a type is in your specific situation:"
   ]
  },
  {
   "cell_type": "code",
   "execution_count": 17,
   "id": "2a720063-edd7-4382-93cb-6872d6b0ae91",
   "metadata": {},
   "outputs": [
    {
     "name": "stdout",
     "output_type": "stream",
     "text": [
      "number of bytes in an int: 4\n",
      "number of bytes in a short: 2\n",
      "number of bytes in a long: 8\n",
      "number of bytes in a long long: 8\n",
      "number of bytes in a float: 4\n",
      "number of bytes in a double: 8\n",
      "number of bytes in a unsigned int: 4\n"
     ]
    }
   ],
   "source": [
    "#include <stdio.h>\n",
    "\n",
    "int main()\n",
    "{\n",
    "    printf(\"number of bytes in an int: %lu\\n\", sizeof(int));\n",
    "    printf(\"number of bytes in a short: %lu\\n\", sizeof(short));\n",
    "    printf(\"number of bytes in a long: %lu\\n\", sizeof(long));\n",
    "    printf(\"number of bytes in a long long: %lu\\n\", sizeof(long long));\n",
    "    printf(\"number of bytes in a float: %lu\\n\", sizeof(float));\n",
    "    printf(\"number of bytes in a double: %lu\\n\", sizeof(double));\n",
    "    printf(\"number of bytes in a unsigned int: %lu\\n\", sizeof(unsigned int));\n",
    "}"
   ]
  },
  {
   "cell_type": "markdown",
   "id": "4fa0b5b0-7514-4940-b8e1-460a1a985d62",
   "metadata": {},
   "source": [
    "The `sizeof` operator takes the name of a type as an argument and evaluates to the number of bytes used to store that type. \n",
    "\n",
    "The `sizeof` operator evaluates to an unsigned long value, so in the call to `printf`, use the placeholder `%lu` to print its value. "
   ]
  }
 ],
 "metadata": {
  "kernelspec": {
   "display_name": "C",
   "language": "c",
   "name": "c"
  },
  "language_info": {
   "file_extension": ".c",
   "mimetype": "text/plain",
   "name": "c"
  }
 },
 "nbformat": 4,
 "nbformat_minor": 5
}
