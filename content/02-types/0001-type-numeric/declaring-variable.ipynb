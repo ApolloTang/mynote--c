{
 "cells": [
  {
   "cell_type": "markdown",
   "id": "00e7b8e2-f1a8-40b9-b0e8-3a637feca0f6",
   "metadata": {},
   "source": [
    "# Declaring variable"
   ]
  },
  {
   "cell_type": "code",
   "execution_count": 1,
   "id": "d73f293f-1df8-40cf-9260-2cbd137281c7",
   "metadata": {},
   "outputs": [],
   "source": [
    "int main()\n",
    "{\n",
    "    int x;\n",
    "    int i, j, k;\n",
    "    \n",
    "    float winpct;\n",
    "    double pi;\n",
    "    \n",
    "    char letter;  // A single-byte integer value. Type char is used to store a single ASCII character value.\n",
    "                  // This is not the same as type string.\n",
    "\n",
    "    x = 7;\n",
    "    k = x + 2;\n",
    "\n",
    "    j = 11 / 2;          // j gets an integer value of 5: in division truncates after the decimal\n",
    "    x = k % 2;\n",
    "    \n",
    "    winpct = 11 / 2.0; \n",
    "    pi = 3.1415926;\n",
    "\n",
    "    letter = 'A';         // Single quotes are used for single-character values.\n",
    "    letter = letter + 1;  // Letter stores 'B' (ASCII value one more than 'A'\n",
    "}"
   ]
  },
  {
   "cell_type": "code",
   "execution_count": null,
   "id": "a08244ae-e991-4e38-90fa-32b393635d05",
   "metadata": {},
   "outputs": [],
   "source": []
  }
 ],
 "metadata": {
  "kernelspec": {
   "display_name": "C",
   "language": "c",
   "name": "c"
  },
  "language_info": {
   "file_extension": ".c",
   "mimetype": "text/plain",
   "name": "c"
  }
 },
 "nbformat": 4,
 "nbformat_minor": 5
}
