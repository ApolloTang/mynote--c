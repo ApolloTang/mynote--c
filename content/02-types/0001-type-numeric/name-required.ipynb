{
 "cells": [
  {
   "cell_type": "code",
   "execution_count": 7,
   "id": "cb039ca2-5561-4698-b7eb-eb149907de82",
   "metadata": {},
   "outputs": [],
   "source": [
    "int main()\n",
    "{\n",
    "    int x;\n",
    "    int i, j, k;\n",
    "    \n",
    "    float winpct;\n",
    "    double pi;\n",
    "    \n",
    "    char letter;  // A single-byte integer value. Type char is used to store a single ASCII character value.\n",
    "                  // This is not the same as type string.\n",
    "\n",
    "    x = 7;\n",
    "    k = x + 2;\n",
    "\n",
    "    j = 11 / 2;          // j gets an integer value of 5: in division truncates after the decimal\n",
    "    x = k % 2;\n",
    "    \n",
    "    winpct = 11 / 2.0; \n",
    "    pi = 3.1415926;\n",
    "\n",
    "    letter = 'A';         // Single quotes are used for single-character values.\n",
    "    letter = letter + 1;  // Letter stores 'B' (ASCII value one more than 'A'\n",
    "}"
   ]
  },
  {
   "cell_type": "code",
   "execution_count": null,
   "id": "2a720063-edd7-4382-93cb-6872d6b0ae91",
   "metadata": {},
   "outputs": [],
   "source": []
  }
 ],
 "metadata": {
  "kernelspec": {
   "display_name": "C",
   "language": "c",
   "name": "c"
  },
  "language_info": {
   "file_extension": ".c",
   "mimetype": "text/plain",
   "name": "c"
  }
 },
 "nbformat": 4,
 "nbformat_minor": 5
}
