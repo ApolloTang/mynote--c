{
 "cells": [
  {
   "cell_type": "markdown",
   "id": "da530496-1095-45ba-8ccd-e5d9e1cbf627",
   "metadata": {},
   "source": [
    "## About `printf`\n",
    "\n",
    "C does not come with a function to print text to the screen; for this functionality, we use the `printf` function provided from the standard library included via `#include <stdio.h>`.  This `printf` has its own languge consists of plain text interrspersed with insertion variable as well as codes representing invisible characters. \n",
    "\n",
    "\n",
    "\n",
    "## Comon invisible characters codes:\n",
    "\n",
    "| Code | Description |\n",
    "| ---- | ---- |\n",
    "|\\n |A newline|\n",
    "|\\t |A tab|\n",
    "|%i |Insert an integer value here|\n",
    "|%g |Insert a real number in general format here|\n",
    "|%s |Insert a string of text here|\n",
    "|%% |Insert a plain percent sign here|\n",
    "\n",
    "To read more about `printf` 's sublanguage, type the following in the terminal:\n",
    "\n",
    "```\n",
    "man 3 printf\n",
    "```"
   ]
  },
  {
   "cell_type": "code",
   "execution_count": 1,
   "id": "b71a94cf-ee80-41d1-98d6-eda8fcf4c49c",
   "metadata": {},
   "outputs": [
    {
     "name": "stdout",
     "output_type": "stream",
     "text": [
      "3.14159 times 10 = 31.4159.\n"
     ]
    }
   ],
   "source": [
    "#include <stdio.h>\n",
    "\n",
    "int main(){ \n",
    "    double pi= 3.14159265; //POSIX defines the constant M_PI in math.h, by the way.\n",
    "    int count= 10;\n",
    "    printf(\"%g times %i = %g.\\n\", pi, count, pi*count);\n",
    "}"
   ]
  },
  {
   "cell_type": "code",
   "execution_count": null,
   "id": "4218e0b6-3ee1-488d-9151-d6cf216b341e",
   "metadata": {},
   "outputs": [],
   "source": [
    "## Example for using `printf`:"
   ]
  }
 ],
 "metadata": {
  "kernelspec": {
   "display_name": "C",
   "language": "c",
   "name": "c"
  },
  "language_info": {
   "file_extension": ".c",
   "mimetype": "text/plain",
   "name": "c"
  }
 },
 "nbformat": 4,
 "nbformat_minor": 5
}
