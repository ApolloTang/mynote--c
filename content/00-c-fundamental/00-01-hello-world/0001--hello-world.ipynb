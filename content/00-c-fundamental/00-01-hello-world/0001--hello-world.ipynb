{
 "cells": [
  {
   "cell_type": "code",
   "execution_count": null,
   "metadata": {},
   "outputs": [],
   "source": [
    "%%file hello.c\n",
    "\n",
    "/*\n",
    "    The Hello World Program in C\n",
    " */\n",
    "\n",
    "/* C math and I/O libraries */\n",
    "#include <math.h>\n",
    "#include <stdio.h>\n",
    "\n",
    "/* main function definition: */\n",
    "int main(void) {\n",
    "    // statements end in a semicolon (;)\n",
    "    printf(\"Hello World\\n\");\n",
    "    printf(\"sqrt(4) is %f\\n\", sqrt(4));\n",
    "\n",
    "    return 0;  // main returns value 0\n",
    "}"
   ]
  },
  {
   "cell_type": "markdown",
   "metadata": {},
   "source": [
    "## Things to remember about c programming\n",
    "\n",
    "### The `main` function\n",
    "\n",
    "- Return type must be `int`.\n",
    "- Contains an explicit `return` statement to return an `int` value.\n",
    "- by convention, a `0` is returned if executed without errors.\n",
    "\n",
    "### Statements:\n",
    "\n",
    "- Statements must be within the body of some function.\n",
    "- Statements end with a semicolon. Statements are delineated not by line breaks.\n",
    "\n",
    "### Output:\n",
    "\n",
    "- You must manually add `\\n` when using `printf`.\n"
   ]
  },
  {
   "cell_type": "code",
   "execution_count": null,
   "metadata": {},
   "outputs": [],
   "source": []
  }
 ],
 "metadata": {
  "kernelspec": {
   "display_name": "Python 3 (ipykernel)",
   "language": "python",
   "name": "python3"
  },
  "language_info": {
   "codemirror_mode": {
    "name": "ipython",
    "version": 3
   },
   "file_extension": ".py",
   "mimetype": "text/x-python",
   "name": "python",
   "nbconvert_exporter": "python",
   "pygments_lexer": "ipython3",
   "version": "3.12.2"
  },
  "vscode": {
   "interpreter": {
    "hash": "397704579725e15f5c7cb49fe5f0341eb7531c82d19f2c29d197e8b64ab5776b"
   }
  }
 },
 "nbformat": 4,
 "nbformat_minor": 4
}
