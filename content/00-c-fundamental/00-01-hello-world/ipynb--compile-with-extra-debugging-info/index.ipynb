{
 "cells": [
  {
   "cell_type": "code",
   "execution_count": 2,
   "metadata": {},
   "outputs": [
    {
     "name": "stdout",
     "output_type": "stream",
     "text": [
      "Exception reporting mode: Minimal\n"
     ]
    }
   ],
   "source": [
    "# minimal output from pythons https://stackoverflow.com/a/78281950/3136861\n",
    "%xmode Minimal  "
   ]
  },
  {
   "cell_type": "code",
   "execution_count": 3,
   "metadata": {},
   "outputs": [
    {
     "name": "stdout",
     "output_type": "stream",
     "text": [
      "Writing main.c\n"
     ]
    }
   ],
   "source": [
    "%%file main.c\n",
    "\n",
    "/*\n",
    "    The Hello World Program in C\n",
    " */\n",
    "\n",
    "/* C math and I/O libraries */\n",
    "#include <math.h>\n",
    "#include <stdio.h>\n",
    "\n",
    "/* main function definition: */\n",
    "int main(void) {\n",
    "    // statements end in a semicolon (;)\n",
    "    printf(\"Hello World\\n\");\n",
    "    printf(\"sqrt(4) is %f\\n\", sqrt(4));\n",
    "\n",
    "    return 0;  // main returns value 0\n",
    "}"
   ]
  },
  {
   "cell_type": "markdown",
   "metadata": {},
   "source": [
    "Often when compiling with gcc, you want to include several command line options. \n",
    "\n",
    "For example, these options enable more compiler warnings and build a binary executable with extra debugging information:"
   ]
  },
  {
   "cell_type": "code",
   "execution_count": 4,
   "metadata": {},
   "outputs": [],
   "source": [
    "%%bash\n",
    "gcc -Wall -g -o main main.c"
   ]
  },
  {
   "cell_type": "code",
   "execution_count": 5,
   "metadata": {},
   "outputs": [
    {
     "name": "stdout",
     "output_type": "stream",
     "text": [
      "Hello World\n",
      "sqrt(4) is 2.000000\n"
     ]
    }
   ],
   "source": [
    "%%bash\n",
    "./main"
   ]
  }
 ],
 "metadata": {
  "kernelspec": {
   "display_name": "Python 3 (ipykernel)",
   "language": "python",
   "name": "python3"
  },
  "language_info": {
   "codemirror_mode": {
    "name": "ipython",
    "version": 3
   },
   "file_extension": ".py",
   "mimetype": "text/x-python",
   "name": "python",
   "nbconvert_exporter": "python",
   "pygments_lexer": "ipython3",
   "version": "3.12.3"
  },
  "vscode": {
   "interpreter": {
    "hash": "397704579725e15f5c7cb49fe5f0341eb7531c82d19f2c29d197e8b64ab5776b"
   }
  }
 },
 "nbformat": 4,
 "nbformat_minor": 4
}
