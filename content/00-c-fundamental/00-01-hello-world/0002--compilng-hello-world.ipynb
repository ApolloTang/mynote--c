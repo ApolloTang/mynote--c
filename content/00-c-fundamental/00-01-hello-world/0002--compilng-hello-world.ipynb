{
 "cells": [
  {
   "cell_type": "code",
   "execution_count": 7,
   "metadata": {},
   "outputs": [
    {
     "name": "stdout",
     "output_type": "stream",
     "text": [
      "Overwriting hello.c\n"
     ]
    }
   ],
   "source": [
    "%%file hello.c\n",
    "\n",
    "/*\n",
    "    The Hello World Program in C\n",
    " */\n",
    "\n",
    "/* C math and I/O libraries */\n",
    "#include <math.h>\n",
    "#include <stdio.h>\n",
    "\n",
    "/* main function definition: */\n",
    "int main(void) {\n",
    "    // statements end in a semicolon (;)\n",
    "    printf(\"Hello World\\n\");\n",
    "    printf(\"sqrt(4) is %f\\n\", sqrt(4));\n",
    "\n",
    "    return 0;  // main returns value 0\n",
    "}"
   ]
  },
  {
   "cell_type": "code",
   "execution_count": 8,
   "metadata": {},
   "outputs": [],
   "source": [
    "%%bash\n",
    "\n",
    "gcc hello.c -o hello"
   ]
  },
  {
   "cell_type": "code",
   "execution_count": 9,
   "metadata": {},
   "outputs": [
    {
     "name": "stdout",
     "output_type": "stream",
     "text": [
      "Hello World\n",
      "sqrt(4) is 2.000000\n"
     ]
    }
   ],
   "source": [
    "%%bash\n",
    "\n",
    "./hello"
   ]
  },
  {
   "cell_type": "markdown",
   "metadata": {},
   "source": [
    "Often when compiling with gcc, you want to include several command line options. \n",
    "\n",
    "For example, these options enable more compiler warnings and build a binary executable with extra debugging information:"
   ]
  },
  {
   "cell_type": "code",
   "execution_count": 12,
   "metadata": {},
   "outputs": [],
   "source": [
    "%%bash\n",
    "\n",
    "gcc -Wall -g -o hello-extra hello.c"
   ]
  },
  {
   "cell_type": "code",
   "execution_count": 13,
   "metadata": {},
   "outputs": [
    {
     "name": "stdout",
     "output_type": "stream",
     "text": [
      "Hello World\n",
      "sqrt(4) is 2.000000\n"
     ]
    }
   ],
   "source": [
    "%%bash\n",
    "\n",
    "./hello-extra"
   ]
  },
  {
   "cell_type": "code",
   "execution_count": null,
   "metadata": {},
   "outputs": [],
   "source": []
  }
 ],
 "metadata": {
  "kernelspec": {
   "display_name": "Python 3 (ipykernel)",
   "language": "python",
   "name": "python3"
  },
  "language_info": {
   "codemirror_mode": {
    "name": "ipython",
    "version": 3
   },
   "file_extension": ".py",
   "mimetype": "text/x-python",
   "name": "python",
   "nbconvert_exporter": "python",
   "pygments_lexer": "ipython3",
   "version": "3.12.2"
  },
  "vscode": {
   "interpreter": {
    "hash": "397704579725e15f5c7cb49fe5f0341eb7531c82d19f2c29d197e8b64ab5776b"
   }
  }
 },
 "nbformat": 4,
 "nbformat_minor": 4
}
