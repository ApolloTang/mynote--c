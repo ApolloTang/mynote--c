{
 "cells": [
  {
   "cell_type": "code",
   "execution_count": 5,
   "id": "f578d104-b636-4d62-a6e8-fc592a571b16",
   "metadata": {},
   "outputs": [
    {
     "name": "stdout",
     "output_type": "stream",
     "text": [
      "Exception reporting mode: Minimal\n"
     ]
    }
   ],
   "source": [
    "# minimal output from pythons https://stackoverflow.com/a/78281950/3136861\n",
    "%xmode Minimal  "
   ]
  },
  {
   "cell_type": "code",
   "execution_count": 6,
   "id": "89316652-d178-4442-a97b-4ee5caceb6f6",
   "metadata": {},
   "outputs": [
    {
     "name": "stdout",
     "output_type": "stream",
     "text": [
      "Overwriting main.c\n"
     ]
    }
   ],
   "source": [
    "%%file main.c\n",
    "\n",
    "/*\n",
    "    The Hello World Program in C\n",
    " */\n",
    "\n",
    "/* C math and I/O libraries */\n",
    "#include <math.h>\n",
    "#include <stdio.h>\n",
    "\n",
    "/* main function definition: */\n",
    "int main(void) {\n",
    "    // statements end in a semicolon (;)\n",
    "    printf(\"Hello World\\n\");\n",
    "    printf(\"sqrt(4) is %f\\n\", sqrt(4));\n",
    "\n",
    "    return 0;  // main returns value 0\n",
    "}"
   ]
  },
  {
   "cell_type": "code",
   "execution_count": 8,
   "id": "67a9fc77-47f7-4d54-8e67-447636b5c383",
   "metadata": {},
   "outputs": [],
   "source": [
    "%%bash\n",
    "gcc main.c -o main"
   ]
  },
  {
   "cell_type": "code",
   "execution_count": 9,
   "id": "a128ac5c-27c4-4eb5-8691-77501fca9ea7",
   "metadata": {},
   "outputs": [
    {
     "name": "stdout",
     "output_type": "stream",
     "text": [
      "Hello World\n",
      "sqrt(4) is 2.000000\n"
     ]
    }
   ],
   "source": [
    "%%bash\n",
    "./main"
   ]
  }
 ],
 "metadata": {
  "kernelspec": {
   "display_name": "Python 3 (ipykernel)",
   "language": "python",
   "name": "python3"
  },
  "language_info": {
   "codemirror_mode": {
    "name": "ipython",
    "version": 3
   },
   "file_extension": ".py",
   "mimetype": "text/x-python",
   "name": "python",
   "nbconvert_exporter": "python",
   "pygments_lexer": "ipython3",
   "version": "3.12.3"
  }
 },
 "nbformat": 4,
 "nbformat_minor": 5
}
